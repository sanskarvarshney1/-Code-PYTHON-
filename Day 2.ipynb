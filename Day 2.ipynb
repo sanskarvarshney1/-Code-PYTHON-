{
 "cells": [
  {
   "cell_type": "markdown",
   "id": "23641ccd-4555-4ad9-a19e-512e8c2e6a0c",
   "metadata": {},
   "source": [
    "Program 8: How To Swap First & Last Elements of a List"
   ]
  },
  {
   "cell_type": "code",
   "execution_count": 3,
   "id": "fb818a08-cd88-4bd2-aaf8-a0497a621751",
   "metadata": {},
   "outputs": [],
   "source": [
    "my_list = [1,2,3,45,56]\n",
    "size = len(my_list)\n"
   ]
  },
  {
   "cell_type": "code",
   "execution_count": 4,
   "id": "08b3fbf3-ebf8-498e-a0ca-d2b3b3839ea6",
   "metadata": {},
   "outputs": [],
   "source": [
    "temp = my_list[0]\n",
    "my_list[0] = my_list[size - 1]\n",
    "my_list[size - 1] = temp"
   ]
  },
  {
   "cell_type": "code",
   "execution_count": 5,
   "id": "64325e90-e1ca-4361-8123-97631994bbea",
   "metadata": {},
   "outputs": [
    {
     "name": "stdout",
     "output_type": "stream",
     "text": [
      "print after swapping [56, 2, 3, 45, 1]\n"
     ]
    }
   ],
   "source": [
    "print(\"print after swapping\",my_list)"
   ]
  },
  {
   "cell_type": "markdown",
   "id": "b793b3c6-c679-4298-9c23-b23d3fdaa9fd",
   "metadata": {},
   "source": [
    "Program 9: How To Swap Any 2 Elements of a List"
   ]
  },
  {
   "cell_type": "code",
   "execution_count": 6,
   "id": "df7aa30a-6fa5-4114-9f66-a53b2a6d4c31",
   "metadata": {},
   "outputs": [],
   "source": [
    "mylist = [23,34,56,78]"
   ]
  },
  {
   "cell_type": "code",
   "execution_count": 7,
   "id": "d74d4c13-15d2-40aa-80c0-4c8b842957b2",
   "metadata": {},
   "outputs": [
    {
     "name": "stdout",
     "output_type": "stream",
     "text": [
      "[23, 34, 56, 78]\n"
     ]
    }
   ],
   "source": [
    "print(mylist)"
   ]
  },
  {
   "cell_type": "code",
   "execution_count": 8,
   "id": "0ac97e68-5244-4de2-bd30-c4adc6e0c206",
   "metadata": {},
   "outputs": [],
   "source": [
    "pos1,pos2 = 1,3"
   ]
  },
  {
   "cell_type": "code",
   "execution_count": 9,
   "id": "fe3d6261-6aa1-45b3-8808-bf3ddd4d0ba8",
   "metadata": {},
   "outputs": [],
   "source": [
    "mylist[pos1],mylist[pos2] = mylist[pos2],mylist[pos1] "
   ]
  },
  {
   "cell_type": "code",
   "execution_count": 10,
   "id": "05f0e353-626b-4880-a85f-9dc0470691a9",
   "metadata": {},
   "outputs": [
    {
     "name": "stdout",
     "output_type": "stream",
     "text": [
      "[23, 78, 56, 34]\n"
     ]
    }
   ],
   "source": [
    "print(mylist)"
   ]
  },
  {
   "cell_type": "markdown",
   "id": "4e919dcb-85b0-4e4d-b45b-5943809c2a19",
   "metadata": {},
   "source": [
    "Program 10: How To Remove Nth occurrence of the word from a List"
   ]
  },
  {
   "cell_type": "code",
   "execution_count": 11,
   "id": "a5f68f76-aa9d-4496-b7c7-d89ec113d0aa",
   "metadata": {},
   "outputs": [
    {
     "name": "stdout",
     "output_type": "stream",
     "text": [
      "Updated list is:  ['geeks', 'for']\n"
     ]
    },
    {
     "data": {
      "text/plain": [
       "['geeks', 'for']"
      ]
     },
     "execution_count": 11,
     "metadata": {},
     "output_type": "execute_result"
    }
   ],
   "source": [
    "# Python3 program to remove Nth\n",
    "# occurrence of the given word\n",
    "\n",
    "# Function to remove Ith word\n",
    "def RemoveIthWord(lst, word, N):\n",
    "\tnewList = []\n",
    "\tcount = 0\n",
    "\n",
    "\t# iterate the elements\n",
    "\tfor i in lst:\n",
    "\t\tif(i == word):\n",
    "\t\t\tcount = count + 1\n",
    "\t\t\tif(count != N):\n",
    "\t\t\t\tnewList.append(i)\n",
    "\t\telse:\n",
    "\t\t\tnewList.append(i)\n",
    "\t\t\t\n",
    "\tlst = newList\n",
    "\t\n",
    "\tif count == 0:\n",
    "\t\tprint(\"Item not found\")\n",
    "\telse:\n",
    "\t\tprint(\"Updated list is: \", lst)\n",
    "\t\n",
    "\treturn newList\n",
    "\n",
    "# Driver code\n",
    "list = [\"geeks\", \"for\", \"geeks\"]\n",
    "word = \"geeks\"\n",
    "N = 2\n",
    "\n",
    "RemoveIthWord(list, word, N)\n"
   ]
  },
  {
   "cell_type": "markdown",
   "id": "b3c92d5d-9c28-4203-84ec-9ac51b625525",
   "metadata": {},
   "source": [
    "11 . Program to check a number is Armstrong or not in python programming language"
   ]
  },
  {
   "cell_type": "code",
   "execution_count": 12,
   "id": "04637572-9a0a-45df-ab3f-053a1db7fd2f",
   "metadata": {},
   "outputs": [
    {
     "name": "stdin",
     "output_type": "stream",
     "text": [
      "please give a number :  153\n"
     ]
    },
    {
     "name": "stdout",
     "output_type": "stream",
     "text": [
      "number is armstrong\n"
     ]
    }
   ],
   "source": [
    "i=0\n",
    "result=0\n",
    "n = int(input(\"please give a number : \"))\n",
    "number1 = n\n",
    "temp = n\n",
    "while n!=0:\n",
    "    n = (n//10)\n",
    "    i=i+1;\n",
    "while number1!=0:\n",
    "    n=number1%10\n",
    "    result=result+pow(n,i)\n",
    "    number1=number1//10\n",
    "if temp==result:\n",
    "    print(\"number is armstrong\")\n",
    "else:\n",
    "    print(\"number is not armstrong\") "
   ]
  },
  {
   "cell_type": "code",
   "execution_count": 13,
   "id": "d305384b-5285-4a77-baf6-95ee315adeff",
   "metadata": {},
   "outputs": [
    {
     "name": "stdin",
     "output_type": "stream",
     "text": [
      "please give a number :  57486\n"
     ]
    },
    {
     "name": "stdout",
     "output_type": "stream",
     "text": [
      "number is not armstrong\n"
     ]
    }
   ],
   "source": [
    "i=0\n",
    "result=0\n",
    "n = int(input(\"please give a number : \"))\n",
    "number1 = n\n",
    "temp = n\n",
    "while n!=0:\n",
    "    n = (n//10)\n",
    "    i=i+1;\n",
    "while number1!=0:\n",
    "    n=number1%10\n",
    "    result=result+pow(n,i)\n",
    "    number1=number1//10\n",
    "if temp==result:\n",
    "    print(\"number is armstrong\")\n",
    "else:\n",
    "    print(\"number is not armstrong\") "
   ]
  },
  {
   "cell_type": "markdown",
   "id": "fafa1bb4-e7bd-4823-ad9d-daca66ee9656",
   "metadata": {},
   "source": [
    "12.Python program to find greatest of three numbers"
   ]
  },
  {
   "cell_type": "code",
   "execution_count": 1,
   "id": "a97884a4-c141-4166-9a41-5a25cfd91bd3",
   "metadata": {},
   "outputs": [
    {
     "name": "stdin",
     "output_type": "stream",
     "text": [
      "please give first number n1:  2\n",
      "please give second number n2:  33\n",
      "please give third number n3:  445\n"
     ]
    },
    {
     "name": "stdout",
     "output_type": "stream",
     "text": [
      "n3 is greatest\n"
     ]
    }
   ],
   "source": [
    "n1 = int(input(\"please give first number n1: \"))\n",
    "n2 = int(input(\"please give second number n2: \"))\n",
    "n3 = int(input(\"please give third number n3: \"))\n",
    "if n1>=n2 and n1>=n3: \n",
    "\tprint(\" n1 is greatest\");\n",
    "if n2>=n1 and n2>=n3:\n",
    "\tprint(\" n2 is greatest\");\n",
    "if n3>=n1 and n3>=n2:\n",
    "\tprint(\"n3 is greatest\"); "
   ]
  },
  {
   "cell_type": "markdown",
   "id": "6957cc02-307a-4c1f-b492-049a582301d2",
   "metadata": {},
   "source": [
    "13.Program to check given number representation is in binary or not"
   ]
  },
  {
   "cell_type": "code",
   "execution_count": 3,
   "id": "7069e928-130b-44de-813e-a7ffa051da70",
   "metadata": {},
   "outputs": [
    {
     "name": "stdin",
     "output_type": "stream",
     "text": [
      "please give a number :  01\n"
     ]
    },
    {
     "name": "stdout",
     "output_type": "stream",
     "text": [
      "num is binary\n"
     ]
    }
   ],
   "source": [
    "num = int(input(\"please give a number : \"))\n",
    "while(num>0):\n",
    "    j=num%10\n",
    "    if j!=0 and j!=1:\n",
    "        print(\"num is not binary\")\n",
    "        break\n",
    "    num=num//10\n",
    "    if num==0:\n",
    "        print(\"num is binary\") "
   ]
  },
  {
   "cell_type": "code",
   "execution_count": 4,
   "id": "b498c362-3b4d-4a16-a688-53997e6e51cd",
   "metadata": {},
   "outputs": [
    {
     "name": "stdin",
     "output_type": "stream",
     "text": [
      "please give a number :  56667\n"
     ]
    },
    {
     "name": "stdout",
     "output_type": "stream",
     "text": [
      "num is not binary\n"
     ]
    }
   ],
   "source": [
    "num = int(input(\"please give a number : \"))\n",
    "while(num>0):\n",
    "    j=num%10\n",
    "    if j!=0 and j!=1:\n",
    "        print(\"num is not binary\")\n",
    "        break\n",
    "    num=num//10\n",
    "    if num==0:\n",
    "        print(\"num is binary\") "
   ]
  },
  {
   "cell_type": "markdown",
   "id": "0cd796ae-e2bf-42a0-97b1-d6bee7c9e9a0",
   "metadata": {},
   "source": [
    "14. Python program to print Fibonacci series using recursive methods"
   ]
  },
  {
   "cell_type": "code",
   "execution_count": 5,
   "id": "180d82ed-0b86-48d5-9bec-b2219da02221",
   "metadata": {},
   "outputs": [
    {
     "name": "stdin",
     "output_type": "stream",
     "text": [
      "please give a number for fibonacci series :  34\n"
     ]
    },
    {
     "name": "stdout",
     "output_type": "stream",
     "text": [
      "fibonacci series are : \n",
      "0\n",
      "1\n",
      "1\n",
      "2\n",
      "3\n",
      "5\n",
      "8\n",
      "13\n",
      "21\n",
      "34\n",
      "55\n",
      "89\n",
      "144\n",
      "233\n",
      "377\n",
      "610\n",
      "987\n",
      "1597\n",
      "2584\n",
      "4181\n",
      "6765\n",
      "10946\n",
      "17711\n",
      "28657\n",
      "46368\n",
      "75025\n",
      "121393\n",
      "196418\n",
      "317811\n",
      "514229\n",
      "832040\n",
      "1346269\n",
      "2178309\n",
      "3524578\n"
     ]
    }
   ],
   "source": [
    "first,second=0,1\n",
    "n = int(input(\"please give a number for fibonacci series : \"))\n",
    "def fibonacci(num):\n",
    "    if num == 0:\n",
    "        return 0\n",
    "    elif num == 1:\n",
    "        return 1\n",
    "    else:\n",
    "        return fibonacci(num-1)+fibonacci(num-2)\n",
    "print(\"fibonacci series are : \")\n",
    "for i in range(0,n):\n",
    "    print(fibonacci(i))"
   ]
  },
  {
   "cell_type": "code",
   "execution_count": null,
   "id": "5b87498b-6ab8-4faa-91fb-46e9e614e8b6",
   "metadata": {},
   "outputs": [],
   "source": []
  }
 ],
 "metadata": {
  "kernelspec": {
   "display_name": "Python 3 (ipykernel)",
   "language": "python",
   "name": "python3"
  },
  "language_info": {
   "codemirror_mode": {
    "name": "ipython",
    "version": 3
   },
   "file_extension": ".py",
   "mimetype": "text/x-python",
   "name": "python",
   "nbconvert_exporter": "python",
   "pygments_lexer": "ipython3",
   "version": "3.10.8"
  }
 },
 "nbformat": 4,
 "nbformat_minor": 5
}
