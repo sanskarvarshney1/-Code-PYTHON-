{
 "cells": [
  {
   "cell_type": "markdown",
   "id": "be041ed6-134f-4e53-afae-a6f747a48868",
   "metadata": {},
   "source": [
    "#1 swapping of 2 number"
   ]
  },
  {
   "cell_type": "code",
   "execution_count": 4,
   "id": "ae2ee2b6-1d72-4f3b-9d64-f7da2c5bedfe",
   "metadata": {},
   "outputs": [],
   "source": [
    "a = 5\n",
    "b = 10"
   ]
  },
  {
   "cell_type": "code",
   "execution_count": 5,
   "id": "3fd709b6-9e08-498f-88db-149afab44a7b",
   "metadata": {},
   "outputs": [
    {
     "name": "stdout",
     "output_type": "stream",
     "text": [
      "Before Swapping\n",
      "a 5\n",
      "b 10\n",
      "After Swapping\n",
      "a 10\n",
      "b 5\n"
     ]
    }
   ],
   "source": [
    "print(\"Before Swapping\")\n",
    "print(\"a\",a)\n",
    "print(\"b\",b)\n",
    "temp = a\n",
    "a = b\n",
    "b = temp\n",
    "print(\"After Swapping\")\n",
    "print(\"a\",a)\n",
    "print(\"b\",b)"
   ]
  },
  {
   "cell_type": "markdown",
   "id": "e6452226-2666-4852-9b41-3609dee31d92",
   "metadata": {},
   "source": [
    "# Check whether Number is Prime Or Not"
   ]
  },
  {
   "cell_type": "code",
   "execution_count": 7,
   "id": "15624cfe-0f60-41b9-9788-f4b8e0509b9f",
   "metadata": {},
   "outputs": [
    {
     "name": "stdin",
     "output_type": "stream",
     "text": [
      "Enter the Number:  45\n"
     ]
    },
    {
     "name": "stdout",
     "output_type": "stream",
     "text": [
      "Number is not Prime\n"
     ]
    }
   ],
   "source": [
    "num = input(\"Enter the Number: \")\n",
    "\n",
    "# prime Number-\n",
    "# Number > 1\n",
    "# Only 2 factors - 1 and Number itself.\n",
    "\n",
    "# 19 = 1, 19\n",
    "# 28 = 1, 2, 4, 7, 14, 28\n",
    "count = 0\n",
    "\n",
    "if int(num) > 1:\n",
    "    for i in range(1, int(num)+1):\n",
    "        if int(num) % i == 0:\n",
    "            count += 1\n",
    "    if count == 2:\n",
    "        print(\"Number is Prime\")\n",
    "    else:\n",
    "        print(\"Number is not Prime\")\n",
    "else:\n",
    "    print(\"Number is not Prime number\")\n",
    "\n",
    "# This will handle input 1 as well."
   ]
  },
  {
   "cell_type": "markdown",
   "id": "151c74c4-b2af-4742-a61a-35667dc06189",
   "metadata": {},
   "source": [
    " How To Find Factorial of A Number"
   ]
  },
  {
   "cell_type": "code",
   "execution_count": 8,
   "id": "06919bfe-8dc2-4165-998a-313a4e490cb2",
   "metadata": {},
   "outputs": [
    {
     "name": "stdout",
     "output_type": "stream",
     "text": [
      "The factorial of 7 is 5040\n"
     ]
    }
   ],
   "source": [
    "\n",
    "num = 7\n",
    "factorial = 1\n",
    "\n",
    "if num < 0:\n",
    "   print(\"Sorry, factorial does not exist for negative numbers\")\n",
    "elif num == 0:\n",
    "   print(\"The factorial of 0 is 1\")\n",
    "else:\n",
    "   for i in range(1,num + 1):\n",
    "       factorial = factorial*i\n",
    "   print(\"The factorial of\",num,\"is\",factorial)"
   ]
  },
  {
   "cell_type": "markdown",
   "id": "de37a018-dbbe-4af6-82b3-bcb351eed1c9",
   "metadata": {},
   "source": [
    "Find Maximum & Minimum Elements in an Array"
   ]
  },
  {
   "cell_type": "code",
   "execution_count": 9,
   "id": "7d07fcfa-f22b-4bf4-a52c-c82494005be3",
   "metadata": {},
   "outputs": [
    {
     "name": "stdout",
     "output_type": "stream",
     "text": [
      "34\n",
      "56\n",
      "67\n"
     ]
    }
   ],
   "source": [
    "# max_element\n",
    "arr = [12,34,56,67]\n",
    "max = arr[0]\n",
    "n = len(arr)\n",
    "\n",
    "for i in range(1 ,n):\n",
    "    if arr[i] > max:\n",
    "        max = arr[i]\n",
    "    print(max)"
   ]
  },
  {
   "cell_type": "code",
   "execution_count": 10,
   "id": "14c06b77-c643-49ab-ad2b-bda90e8a9cd9",
   "metadata": {},
   "outputs": [
    {
     "name": "stdout",
     "output_type": "stream",
     "text": [
      "123\n",
      "123\n",
      "123\n"
     ]
    }
   ],
   "source": [
    "# min_element\n",
    "arr = [123,334,356,6337]\n",
    "max = arr[0]\n",
    "n = len(arr)\n",
    "\n",
    "for i in range(1 ,n):\n",
    "    if arr[i] < max:\n",
    "        max = arr[i]\n",
    "    print(max)"
   ]
  },
  {
   "cell_type": "markdown",
   "id": "4cf23f42-977c-48e9-9b2b-7ab4ad6c45bf",
   "metadata": {},
   "source": [
    "# length of list"
   ]
  },
  {
   "cell_type": "code",
   "execution_count": 11,
   "id": "2743eb33-bece-4947-bdb8-bdc73ab7d006",
   "metadata": {},
   "outputs": [],
   "source": [
    "l = [24,56,6,7,7]\n"
   ]
  },
  {
   "cell_type": "code",
   "execution_count": 12,
   "id": "153a3405-0d8b-4d21-b27b-4e756022318e",
   "metadata": {},
   "outputs": [
    {
     "data": {
      "text/plain": [
       "5"
      ]
     },
     "execution_count": 12,
     "metadata": {},
     "output_type": "execute_result"
    }
   ],
   "source": [
    "len(l)"
   ]
  },
  {
   "cell_type": "markdown",
   "id": "e0a626dd-90e9-4b42-95a7-47f786994a81",
   "metadata": {},
   "source": [
    " Create a function which will take a list as an argument and return the product of all the numbers after creating a flat list. Use the below-given list as an argument for your function.\n",
    "\n",
    "list1 = [1,2,3,4, [44,55,66, True], False, (34,56,78,89,34), {1,2,3,3,2,1}, {1:34, \"key2\": [55, 67, 78, 89], 4: (45,22, 61, 34)}, [56, 'data science'], 'Machine Learning'] Note: you must extract numeric keys and values of the dictionary also."
   ]
  },
  {
   "cell_type": "code",
   "execution_count": 13,
   "id": "b710c934-ab9f-45a3-aad7-8c5f60635a0e",
   "metadata": {},
   "outputs": [
    {
     "name": "stdout",
     "output_type": "stream",
     "text": [
      "96469280776028160\n"
     ]
    }
   ],
   "source": [
    "def prod_list(lst):\n",
    "    flat_list = []\n",
    "\n",
    "    \n",
    "    for i in lst:\n",
    "\n",
    "   \n",
    "        if type(i) == list or type(i) == tuple or type(i) == set or type(i) == dict:\n",
    "        \n",
    "            for j in i:\n",
    "            \n",
    "                if type(j) == int or type(j) == float:\n",
    "                    flat_list.append(j)\n",
    "                elif type(j) == dict:\n",
    "                    for k, v in j.items():\n",
    "                        if type(v) == int or type(v) == float:\n",
    "                            flat_list.append(v)\n",
    "\n",
    "                        elif type(j) == list or type(j) == tuple:\n",
    "                            for k in j:\n",
    "                                if type(k) == int or type(k) == float:\n",
    "                                    flat_list.append(k)\n",
    "    else:\n",
    "        if type(i) == int or type(i) == float:\n",
    "            flat_list.append(i)\n",
    "\n",
    "\n",
    "    return (flat_list)\n",
    "\n",
    "def product(l):\n",
    "    pro = 1\n",
    "    for i in l:\n",
    "        pro = pro * i\n",
    "    return pro\n",
    "    \n",
    "\n",
    "list1 = [1,2,3,4, [44,55,66, True], False, (34,56,78,89,34), {1,2,3,3,2,1}, {1:34, \"key2\": [55, 67, 78, 89], 4: (45,22, 61, 34)}, [56, 'data science'], 'Machine Learning']\n",
    "product_list = prod_list(list1)\n",
    "print(product(product_list))\n"
   ]
  },
  {
   "cell_type": "markdown",
   "id": "b12a8612-2113-4fce-b5cb-c67b4e378663",
   "metadata": {},
   "source": [
    " Write a python program for encrypting a message sent to you by your friend. The logic of encryption should be such that, for a the output should be z. For b, the output should be y. For c, the output should be x respectively. Also, the whitespace should be replaced with a dollar sign. Keep the punctuation marks unchanged. Input Sentence: I want to become a Data Scientist. Encrypt the above input sentence using the program you just created. Note: Convert the given input sentence into lowercase before encrypting. The final output should be lowercase."
   ]
  },
  {
   "cell_type": "code",
   "execution_count": 14,
   "id": "92754919-a15d-497e-82ab-985eec15ea93",
   "metadata": {},
   "outputs": [
    {
     "name": "stdout",
     "output_type": "stream",
     "text": [
      "The encoded string is : i$wznt$to$yecome$z$dztz$scientist\n"
     ]
    }
   ],
   "source": [
    "def encode(string):\n",
    "    string = string.lower()\n",
    "    new = \"\"\n",
    "    for i in string:\n",
    "        if i == \"a\":\n",
    "            new += \"z\"\n",
    "        elif i == \"b\":\n",
    "            new += \"y\"\n",
    "        elif i == \" \":\n",
    "            new += \"$\"\n",
    "        else :\n",
    "            new += i\n",
    "    return new\n",
    "string = \"I want to become a Data Scientist\"\n",
    "print(\"The encoded string is :\",encode(string))\n",
    "            \n",
    "        "
   ]
  },
  {
   "cell_type": "code",
   "execution_count": null,
   "id": "8ccd1d2c-ff03-429b-bf00-b6af12a3cd15",
   "metadata": {},
   "outputs": [],
   "source": []
  }
 ],
 "metadata": {
  "kernelspec": {
   "display_name": "Python 3 (ipykernel)",
   "language": "python",
   "name": "python3"
  },
  "language_info": {
   "codemirror_mode": {
    "name": "ipython",
    "version": 3
   },
   "file_extension": ".py",
   "mimetype": "text/x-python",
   "name": "python",
   "nbconvert_exporter": "python",
   "pygments_lexer": "ipython3",
   "version": "3.10.8"
  }
 },
 "nbformat": 4,
 "nbformat_minor": 5
}
